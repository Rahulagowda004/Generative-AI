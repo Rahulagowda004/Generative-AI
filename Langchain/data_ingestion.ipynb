{
 "cells": [
  {
   "cell_type": "code",
   "execution_count": 3,
   "metadata": {},
   "outputs": [
    {
     "data": {
      "text/plain": [
       "<langchain_community.document_loaders.text.TextLoader at 0x26d9d430220>"
      ]
     },
     "execution_count": 3,
     "metadata": {},
     "output_type": "execute_result"
    }
   ],
   "source": [
    "from langchain_community.document_loaders import TextLoader\n",
    "\n",
    "loader = TextLoader(\"artifacts/speech.txt\")# to read the .txt file\n",
    "loader"
   ]
  },
  {
   "cell_type": "markdown",
   "metadata": {},
   "source": []
  },
  {
   "cell_type": "code",
   "execution_count": 4,
   "metadata": {},
   "outputs": [
    {
     "data": {
      "text/plain": [
       "[Document(metadata={'source': 'artifacts/speech.txt'}, page_content='The sky was a canvas of deep oranges and purples as the sun dipped below the horizon, casting long shadows over the quiet town.\\nA soft breeze rustled the leaves of the towering oak trees, and the faint sound of distant laughter echoed through the streets. \\nIn the fading light, everything seemed to slow down, as if the world itself was taking a deep breath after a long day. \\nStreetlights flickered on, casting a warm glow on the cobblestone pathways, while a cat curled up on a porch, content with the stillness of the evening.')]"
      ]
     },
     "execution_count": 4,
     "metadata": {},
     "output_type": "execute_result"
    }
   ],
   "source": [
    "text_document = loader.load()\n",
    "text_document"
   ]
  },
  {
   "cell_type": "code",
   "execution_count": 3,
   "metadata": {},
   "outputs": [
    {
     "data": {
      "text/plain": [
       "[Document(metadata={'source': 'artifacts/internship.pdf', 'page': 0}, page_content='Internship\\nOffer\\nConfirmation\\n–\\nAI\\nEngineer\\nIntern\\n(Remote)\\nDear\\nRahul\\nA\\nGowda,\\nI\\nhope\\nthis\\nmessage\\nfinds\\nyou\\nwell!\\nI\\nam\\ndelighted\\nto\\nconfirm\\nyour\\ninternship\\noffer\\nas\\nan\\nAI\\nEngineer\\nIntern\\n(Remote)\\nat\\nAl-Zira\\nTechnology.\\nYour\\ninnovative\\nmindset,\\ntechnical\\nskills,\\nand\\nenthusiasm\\nfor\\nartificial\\nintelligence\\ntruly\\nimpressed\\nus,\\nand\\nwe\\nare\\nexcited\\nto\\nwelcome\\nyou\\nto\\nour\\ndynamic\\nteam.\\nPosition:\\nAI\\nEngineer\\nIntern\\n(Remote)\\nLocation:\\nFully\\nRemote\\nIn\\nthis\\nrole,\\nyou\\nwill\\nhave\\nthe\\nopportunity\\nto\\nwork\\non\\ngroundbreaking\\nprojects\\nthat\\nutilize\\nartificial\\nintelligence\\nto\\nenhance\\nour\\nproducts\\nand\\nservices.\\nYou\\nwill\\nrefine\\nyour\\nskills\\nin\\ndeveloping\\nAI\\nmodels,\\ndata\\nanalysis,\\nand\\nalgorithm\\nimplementation\\nwhile\\ncollaborating\\nclosely\\nwith\\nour\\ntalented\\nAI\\nand\\nengineering\\nteams.\\nThis\\nhands-on\\nexperience\\nwill\\nallow\\nyou\\nto\\ndeepen\\nyour\\nexpertise\\nin\\ntechnologies\\nsuch\\nas\\nPython,\\nTensorFlow,\\nPyTorch,\\nand\\nmore.\\nWe\\nare\\ncommitted\\nto\\nensuring\\nthat\\nyou\\nhave\\na\\nfulfilling\\nand\\nenriching\\nexperience\\nduring\\nyour\\ninternship.\\nIf\\nyou\\nhave\\nany\\nquestions\\nas\\nyou\\nprepare\\nfor\\nyour\\nrole,\\nplease\\ndon’t\\nhesitate\\nto\\nreach\\nout.\\nOur\\nteam\\nis\\nhere\\nto\\nsupport\\nyou\\nand\\nensure\\na\\nsmooth\\ntransition\\ninto\\nthe\\ncompany.\\nOnce\\nagain,\\nwelcome\\nto\\nAl-Zira\\nTechnology!\\nWe\\ngenuinely\\nlook\\nforward\\nto\\nthe\\nvaluable\\ncontributions\\nyou\\nwill\\nmake\\nto\\nour\\nprojects\\nand\\nare\\nexcited\\nto\\nwork\\nalongside\\nyou.\\nWarm\\nregards,\\nOreoluwa\\nAworinde\\nHR\\nCoordinator\\nAl-Zira\\nTechnology')]"
      ]
     },
     "execution_count": 3,
     "metadata": {},
     "output_type": "execute_result"
    }
   ],
   "source": [
    "from langchain_community.document_loaders import PyPDFLoader\n",
    "\n",
    "loader = PyPDFLoader(\"artifacts/internship.pdf\")# to read the .pdf file\n",
    "\n",
    "docs = loader.load()\n",
    "docs"
   ]
  },
  {
   "cell_type": "code",
   "execution_count": 20,
   "metadata": {},
   "outputs": [
    {
     "data": {
      "text/plain": [
       "[Document(metadata={'source': 'https://lilianweng.github.io/'}, page_content='')]"
      ]
     },
     "execution_count": 20,
     "metadata": {},
     "output_type": "execute_result"
    }
   ],
   "source": [
    "##web based loader \n",
    "from langchain_community.document_loaders import WebBaseLoader\n",
    "import bs4\n",
    "\n",
    "\n",
    "# Correct the URL to include the scheme\n",
    "loader = WebBaseLoader(web_paths=(\"https://lilianweng.github.io/\",),\n",
    "                       bs_kwargs=dict(parse_only = bs4.SoupStrainer(class_ = \"post-title\"))\n",
    "                       )\n",
    "\n",
    "loader.load()"
   ]
  },
  {
   "cell_type": "code",
   "execution_count": 22,
   "metadata": {},
   "outputs": [
    {
     "data": {
      "text/plain": [
       "0"
      ]
     },
     "execution_count": 22,
     "metadata": {},
     "output_type": "execute_result"
    }
   ],
   "source": [
    "from langchain_community.document_loaders import ArxivLoader\n",
    "\n",
    "docs = ArxivLoader(\"https://arxiv.org/abs/2004.13342\").load()\n",
    "len(docs)"
   ]
  },
  {
   "cell_type": "code",
   "execution_count": 23,
   "metadata": {},
   "outputs": [
    {
     "data": {
      "text/plain": [
       "[]"
      ]
     },
     "execution_count": 23,
     "metadata": {},
     "output_type": "execute_result"
    }
   ],
   "source": [
    "docs"
   ]
  },
  {
   "cell_type": "code",
   "execution_count": 26,
   "metadata": {},
   "outputs": [
    {
     "data": {
      "text/plain": [
       "[Document(metadata={'title': 'Artificial intelligence', 'summary': 'Artificial intelligence (AI), in its broadest sense, is intelligence exhibited by machines, particularly computer systems. It is a field of research in computer science that develops and studies methods and software that enable machines to perceive their environment and use learning and intelligence to take actions that maximize their chances of achieving defined goals. Such machines may be called AIs.\\nSome high-profile applications of AI include advanced web search engines (e.g., Google Search); recommendation systems (used by YouTube, Amazon, and Netflix); interacting via human speech (e.g., Google Assistant, Siri, and Alexa); autonomous vehicles (e.g., Waymo); generative and creative tools (e.g., ChatGPT, and AI art); and superhuman play and analysis in strategy games (e.g., chess and Go). However, many AI applications are not perceived as AI: \"A lot of cutting edge AI has filtered into general applications, often without being called AI because once something becomes useful enough and common enough it\\'s not labeled AI anymore.\"\\nThe various subfields of AI research are centered around particular goals and the use of particular tools. The traditional goals of AI research include reasoning, knowledge representation, planning, learning, natural language processing, perception, and support for robotics. General intelligence—the ability to complete any task performable by a human on an at least equal level—is among the field\\'s long-term goals. To reach these goals, AI researchers have adapted and integrated a wide range of techniques, including search and mathematical optimization, formal logic, artificial neural networks, and methods based on statistics, operations research, and economics. AI also draws upon psychology, linguistics, philosophy, neuroscience, and other fields.\\nArtificial intelligence was founded as an academic discipline in 1956, and the field went through multiple cycles of optimism, followed by periods of disappointment and loss of funding, known as AI winter. Funding and interest vastly increased after 2012 when deep learning outperformed previous AI techniques. This growth accelerated further after 2017 with the transformer architecture, and by the early 2020s hundreds of billions of dollars were being invested in AI (known as the \"AI boom\"). The widespread use of AI in the 21st century exposed several unintended consequences and harms in the present and raised concerns about its risks and long-term effects in the future, prompting discussions about regulatory policies to ensure the safety and benefits of the technology.\\n\\n', 'source': 'https://en.wikipedia.org/wiki/Artificial_intelligence'}, page_content='Artificial intelligence (AI), in its broadest sense, is intelligence exhibited by machines, particularly computer systems. It is a field of research in computer science that develops and studies methods and software that enable machines to perceive their environment and use learning and intelligence to take actions that maximize their chances of achieving defined goals. Such machines may be called AIs.\\nSome high-profile applications of AI include advanced web search engines (e.g., Google Search); recommendation systems (used by YouTube, Amazon, and Netflix); interacting via human speech (e.g., Google Assistant, Siri, and Alexa); autonomous vehicles (e.g., Waymo); generative and creative tools (e.g., ChatGPT, and AI art); and superhuman play and analysis in strategy games (e.g., chess and Go). However, many AI applications are not perceived as AI: \"A lot of cutting edge AI has filtered into general applications, often without being called AI because once something becomes useful enough and common enough it\\'s not labeled AI anymore.\"\\nThe various subfields of AI research are centered around particular goals and the use of particular tools. The traditional goals of AI research include reasoning, knowledge representation, planning, learning, natural language processing, perception, and support for robotics. General intelligence—the ability to complete any task performable by a human on an at least equal level—is among the field\\'s long-term goals. To reach these goals, AI researchers have adapted and integrated a wide range of techniques, including search and mathematical optimization, formal logic, artificial neural networks, and methods based on statistics, operations research, and economics. AI also draws upon psychology, linguistics, philosophy, neuroscience, and other fields.\\nArtificial intelligence was founded as an academic discipline in 1956, and the field went through multiple cycles of optimism, followed by periods of disappointment and loss of funding, known as AI winter. Funding and interest vastly increased after 2012 when deep learning outperformed previous AI techniques. This growth accelerated further after 2017 with the transformer architecture, and by the early 2020s hundreds of billions of dollars were being invested in AI (known as the \"AI boom\"). The widespread use of AI in the 21st century exposed several unintended consequences and harms in the present and raised concerns about its risks and long-term effects in the future, prompting discussions about regulatory policies to ensure the safety and benefits of the technology.\\n\\n\\n== Goals ==\\nThe general problem of simulating (or creating) intelligence has been broken into subproblems. These consist of particular traits or capabilities that researchers expect an intelligent system to display. The traits described below have received the most attention and cover the scope of AI research.\\n\\n\\n=== Reasoning and problem-solving ===\\nEarly researchers developed algorithms that imitated step-by-step reasoning that humans use when they solve puzzles or make logical deductions. By the late 1980s and 1990s, methods were developed for dealing with uncertain or incomplete information, employing concepts from probability and economics.\\nMany of these algorithms are insufficient for solving large reasoning problems because they experience a \"combinatorial explosion\": They become exponentially slower as the problems grow. Even humans rarely use the step-by-step deduction that early AI research could model. They solve most of their problems using fast, intuitive judgments. Accurate and efficient reasoning is an unsolved problem.\\n\\n\\n=== Knowledge representation ===\\n\\nKnowledge representation and knowledge engineering allow AI programs to answer questions intelligently and make deductions about real-world facts. Formal knowledge representations are used in content-based indexing and retrieval, scene interpretation, clinical decision support, knowledge discovery (mining \"interesting\" and a'),\n",
       " Document(metadata={'title': 'Generative artificial intelligence', 'summary': 'Generative artificial intelligence (generative AI, GenAI, or GAI) is a subset of artificial intelligence that uses generative models to produce text, images, videos, or other forms of data. These models often generate output in response to specific prompts. Generative AI system learn the underlying patterns and structures of their training data, enabling them to create new data. \\nImprovements in transformer-based deep neural networks, particularly large language models (LLMs), enabled an AI boom of generative AI systems in the early 2020s. These include chatbots such as ChatGPT, Copilot, Gemini and LLaMA, text-to-image artificial intelligence image generation systems such as Stable Diffusion, Midjourney and DALL-E, and text-to-video AI generators such as Sora. Companies such as OpenAI, Anthropic, Microsoft, Google, and Baidu as well as numerous smaller firms have developed generative AI models.\\nGenerative AI has uses across a wide range of industries, including software development, healthcare, finance, entertainment, customer service, sales and marketing, art, writing, fashion, and product design. However, concerns have been raised about the potential misuse of generative AI such as cybercrime, the use of fake news or deepfakes to deceive or manipulate people, and the mass replacement of human jobs. Intellectual property law concerns also exist, around generative models that are trained on and emulate copyrighted works of art.\\n\\n', 'source': 'https://en.wikipedia.org/wiki/Generative_artificial_intelligence'}, page_content='Generative artificial intelligence (generative AI, GenAI, or GAI) is a subset of artificial intelligence that uses generative models to produce text, images, videos, or other forms of data. These models often generate output in response to specific prompts. Generative AI system learn the underlying patterns and structures of their training data, enabling them to create new data. \\nImprovements in transformer-based deep neural networks, particularly large language models (LLMs), enabled an AI boom of generative AI systems in the early 2020s. These include chatbots such as ChatGPT, Copilot, Gemini and LLaMA, text-to-image artificial intelligence image generation systems such as Stable Diffusion, Midjourney and DALL-E, and text-to-video AI generators such as Sora. Companies such as OpenAI, Anthropic, Microsoft, Google, and Baidu as well as numerous smaller firms have developed generative AI models.\\nGenerative AI has uses across a wide range of industries, including software development, healthcare, finance, entertainment, customer service, sales and marketing, art, writing, fashion, and product design. However, concerns have been raised about the potential misuse of generative AI such as cybercrime, the use of fake news or deepfakes to deceive or manipulate people, and the mass replacement of human jobs. Intellectual property law concerns also exist, around generative models that are trained on and emulate copyrighted works of art.\\n\\n\\n== History ==\\n\\n\\n=== Early history ===\\nSince its inception, researchers in the field have raised philosophical and ethical arguments about the nature of the human mind and the consequences of creating artificial beings with human-like intelligence; these issues have previously been explored by myth, fiction and philosophy since antiquity. The concept of automated art dates back at least to the automata of ancient Greek civilization, where inventors such as Daedalus and Hero of Alexandria were described as having designed machines capable of writing text, generating sounds, and playing music. The tradition of creative automatons has flourished throughout history, exemplified by Maillardet\\'s automaton created in the early 1800s. Markov chains have long been used to model natural languages since their development by Russian mathematician Andrey Markov in the early 20th century. Markov published his first paper on the topic in 1906, and analyzed the pattern of vowels and consonants in the novel Eugeny Onegin using Markov chains. Once a Markov chain is learned on a text corpus, it can then be used as a probabilistic text generator.\\n\\n\\n=== Academic artificial intelligence ===\\nThe academic discipline of artificial intelligence was established at a research workshop held at Dartmouth College in 1956 and has experienced several waves of advancement and optimism in the decades since. Artificial Intelligence research began in the 1950s with works like Computing Machinery and Intelligence (1950) and the 1956 Dartmouth Summer Research Project on AI. Since the 1950s, artists and researchers have used artificial intelligence to create artistic works. By the early 1970s, Harold Cohen was creating and exhibiting generative AI works created by AARON, the computer program Cohen created to generate paintings.\\nThe terms generative AI planning or generative planning were used in the 1980s and 1990s to refer to AI planning systems, especially computer-aided process planning, used to generate sequences of actions to reach a specified goal. Generative AI planning systems used symbolic AI methods such as state space search and constraint satisfaction and were a \"relatively mature\" technology by the early 1990s. They were used to generate crisis action plans for military use, process plans for manufacturing and decision plans such as in prototype autonomous spacecraft.\\n\\n\\n=== Generative neural nets (2014-2019) ===\\n\\nSince its inception, the field of machine learning used both discriminative models and generative models, to model an')]"
      ]
     },
     "execution_count": 26,
     "metadata": {},
     "output_type": "execute_result"
    }
   ],
   "source": [
    "from langchain_community.document_loaders import WikipediaLoader\n",
    "\n",
    "loader = WikipediaLoader(query=\"Artificial Intelligence\",load_max_docs = 2)\n",
    "loader.load()"
   ]
  },
  {
   "cell_type": "code",
   "execution_count": 1,
   "metadata": {},
   "outputs": [
    {
     "data": {
      "text/plain": [
       "[Document(metadata={'source': 'artifacts/internship.pdf', 'page': 0}, page_content='Internship\\nOffer\\nConfirmation\\n–\\nAI\\nEngineer\\nIntern\\n(Remote)\\nDear\\nRahul\\nA\\nGowda,\\nI\\nhope\\nthis\\nmessage\\nfinds\\nyou\\nwell!\\nI\\nam\\ndelighted\\nto\\nconfirm\\nyour\\ninternship\\noffer\\nas\\nan\\nAI\\nEngineer\\nIntern\\n(Remote)\\nat\\nAl-Zira\\nTechnology.\\nYour\\ninnovative\\nmindset,\\ntechnical\\nskills,\\nand\\nenthusiasm\\nfor\\nartificial\\nintelligence\\ntruly\\nimpressed\\nus,\\nand\\nwe\\nare\\nexcited\\nto\\nwelcome\\nyou\\nto\\nour\\ndynamic\\nteam.\\nPosition:\\nAI\\nEngineer\\nIntern\\n(Remote)\\nLocation:\\nFully\\nRemote\\nIn\\nthis\\nrole,\\nyou\\nwill\\nhave\\nthe\\nopportunity\\nto\\nwork\\non\\ngroundbreaking\\nprojects\\nthat\\nutilize\\nartificial\\nintelligence\\nto\\nenhance\\nour\\nproducts\\nand\\nservices.\\nYou\\nwill\\nrefine\\nyour\\nskills\\nin\\ndeveloping\\nAI\\nmodels,\\ndata\\nanalysis,\\nand\\nalgorithm\\nimplementation\\nwhile\\ncollaborating\\nclosely\\nwith\\nour\\ntalented\\nAI\\nand\\nengineering\\nteams.\\nThis\\nhands-on\\nexperience\\nwill\\nallow\\nyou\\nto\\ndeepen\\nyour\\nexpertise\\nin\\ntechnologies\\nsuch\\nas\\nPython,\\nTensorFlow,\\nPyTorch,\\nand\\nmore.\\nWe\\nare\\ncommitted\\nto\\nensuring\\nthat\\nyou\\nhave\\na\\nfulfilling\\nand\\nenriching\\nexperience\\nduring\\nyour\\ninternship.\\nIf\\nyou\\nhave\\nany\\nquestions\\nas\\nyou\\nprepare\\nfor\\nyour\\nrole,\\nplease\\ndon’t\\nhesitate\\nto\\nreach\\nout.\\nOur\\nteam\\nis\\nhere\\nto\\nsupport\\nyou\\nand\\nensure\\na\\nsmooth\\ntransition\\ninto\\nthe\\ncompany.\\nOnce\\nagain,\\nwelcome\\nto\\nAl-Zira\\nTechnology!\\nWe\\ngenuinely\\nlook\\nforward\\nto\\nthe\\nvaluable\\ncontributions\\nyou\\nwill\\nmake\\nto\\nour\\nprojects\\nand\\nare\\nexcited\\nto\\nwork\\nalongside\\nyou.\\nWarm\\nregards,\\nOreoluwa\\nAworinde\\nHR\\nCoordinator\\nAl-Zira\\nTechnology')]"
      ]
     },
     "execution_count": 1,
     "metadata": {},
     "output_type": "execute_result"
    }
   ],
   "source": [
    "from langchain_community.document_loaders import PyPDFLoader\n",
    "\n",
    "loader = PyPDFLoader(\"artifacts/internship.pdf\")# to read the .pdf file\n",
    "\n",
    "docs = loader.load()\n",
    "docs"
   ]
  },
  {
   "cell_type": "code",
   "execution_count": 3,
   "metadata": {},
   "outputs": [
    {
     "data": {
      "text/plain": [
       "[Document(metadata={'source': 'artifacts/internship.pdf', 'page': 0}, page_content='Internship\\nOffer\\nConfirmation\\n–\\nAI\\nEngineer\\nIntern\\n(Remote)\\nDear\\nRahul\\nA\\nGowda,\\nI\\nhope\\nthis\\nmessage\\nfinds\\nyou\\nwell!\\nI\\nam\\ndelighted\\nto\\nconfirm\\nyour\\ninternship\\noffer\\nas\\nan\\nAI\\nEngineer\\nIntern\\n(Remote)\\nat\\nAl-Zira\\nTechnology.\\nYour\\ninnovative\\nmindset,\\ntechnical\\nskills,\\nand\\nenthusiasm\\nfor\\nartificial\\nintelligence\\ntruly\\nimpressed\\nus,\\nand\\nwe\\nare\\nexcited\\nto\\nwelcome\\nyou\\nto\\nour\\ndynamic\\nteam.\\nPosition:\\nAI\\nEngineer\\nIntern\\n(Remote)\\nLocation:\\nFully\\nRemote\\nIn\\nthis\\nrole,\\nyou\\nwill\\nhave\\nthe\\nopportunity\\nto\\nwork\\non'),\n",
       " Document(metadata={'source': 'artifacts/internship.pdf', 'page': 0}, page_content='role,\\nyou\\nwill\\nhave\\nthe\\nopportunity\\nto\\nwork\\non\\ngroundbreaking\\nprojects\\nthat\\nutilize\\nartificial\\nintelligence\\nto\\nenhance\\nour\\nproducts\\nand\\nservices.\\nYou\\nwill\\nrefine\\nyour\\nskills\\nin\\ndeveloping\\nAI\\nmodels,\\ndata\\nanalysis,\\nand\\nalgorithm\\nimplementation\\nwhile\\ncollaborating\\nclosely\\nwith\\nour\\ntalented\\nAI\\nand\\nengineering\\nteams.\\nThis\\nhands-on\\nexperience\\nwill\\nallow\\nyou\\nto\\ndeepen\\nyour\\nexpertise\\nin\\ntechnologies\\nsuch\\nas\\nPython,\\nTensorFlow,\\nPyTorch,\\nand\\nmore.\\nWe\\nare\\ncommitted\\nto\\nensuring\\nthat\\nyou\\nhave\\na\\nfulfilling'),\n",
       " Document(metadata={'source': 'artifacts/internship.pdf', 'page': 0}, page_content='committed\\nto\\nensuring\\nthat\\nyou\\nhave\\na\\nfulfilling\\nand\\nenriching\\nexperience\\nduring\\nyour\\ninternship.\\nIf\\nyou\\nhave\\nany\\nquestions\\nas\\nyou\\nprepare\\nfor\\nyour\\nrole,\\nplease\\ndon’t\\nhesitate\\nto\\nreach\\nout.\\nOur\\nteam\\nis\\nhere\\nto\\nsupport\\nyou\\nand\\nensure\\na\\nsmooth\\ntransition\\ninto\\nthe\\ncompany.\\nOnce\\nagain,\\nwelcome\\nto\\nAl-Zira\\nTechnology!\\nWe\\ngenuinely\\nlook\\nforward\\nto\\nthe\\nvaluable\\ncontributions\\nyou\\nwill\\nmake\\nto\\nour\\nprojects\\nand\\nare\\nexcited\\nto\\nwork\\nalongside\\nyou.\\nWarm\\nregards,\\nOreoluwa\\nAworinde\\nHR\\nCoordinator\\nAl-Zira'),\n",
       " Document(metadata={'source': 'artifacts/internship.pdf', 'page': 0}, page_content='regards,\\nOreoluwa\\nAworinde\\nHR\\nCoordinator\\nAl-Zira\\nTechnology')]"
      ]
     },
     "execution_count": 3,
     "metadata": {},
     "output_type": "execute_result"
    }
   ],
   "source": [
    "from langchain_text_splitters import RecursiveCharacterTextSplitter\n",
    "\n",
    "text_splitter = RecursiveCharacterTextSplitter(chunk_size=500,chunk_overlap=50)\n",
    "\n",
    "final_documents = text_splitter.split_documents(docs)\n",
    "final_documents"
   ]
  },
  {
   "cell_type": "code",
   "execution_count": 5,
   "metadata": {},
   "outputs": [
    {
     "name": "stdout",
     "output_type": "stream",
     "text": [
      "page_content='Internship\n",
      "Offer\n",
      "Confirmation\n",
      "–\n",
      "AI\n",
      "Engineer\n",
      "Intern\n",
      "(Remote)\n",
      "Dear\n",
      "Rahul\n",
      "A\n",
      "Gowda,\n",
      "I\n",
      "hope\n",
      "this\n",
      "message\n",
      "finds\n",
      "you\n",
      "well!\n",
      "I\n",
      "am\n",
      "delighted\n",
      "to\n",
      "confirm\n",
      "your\n",
      "internship\n",
      "offer\n",
      "as\n",
      "an\n",
      "AI\n",
      "Engineer\n",
      "Intern\n",
      "(Remote)\n",
      "at\n",
      "Al-Zira\n",
      "Technology.\n",
      "Your\n",
      "innovative\n",
      "mindset,\n",
      "technical\n",
      "skills,\n",
      "and\n",
      "enthusiasm\n",
      "for\n",
      "artificial\n",
      "intelligence\n",
      "truly\n",
      "impressed\n",
      "us,\n",
      "and\n",
      "we\n",
      "are\n",
      "excited\n",
      "to\n",
      "welcome\n",
      "you\n",
      "to\n",
      "our\n",
      "dynamic\n",
      "team.\n",
      "Position:\n",
      "AI\n",
      "Engineer\n",
      "Intern\n",
      "(Remote)\n",
      "Location:\n",
      "Fully\n",
      "Remote\n",
      "In\n",
      "this\n",
      "role,\n",
      "you\n",
      "will\n",
      "have\n",
      "the\n",
      "opportunity\n",
      "to\n",
      "work\n",
      "on' metadata={'source': 'artifacts/internship.pdf', 'page': 0}\n",
      "page_content='role,\n",
      "you\n",
      "will\n",
      "have\n",
      "the\n",
      "opportunity\n",
      "to\n",
      "work\n",
      "on\n",
      "groundbreaking\n",
      "projects\n",
      "that\n",
      "utilize\n",
      "artificial\n",
      "intelligence\n",
      "to\n",
      "enhance\n",
      "our\n",
      "products\n",
      "and\n",
      "services.\n",
      "You\n",
      "will\n",
      "refine\n",
      "your\n",
      "skills\n",
      "in\n",
      "developing\n",
      "AI\n",
      "models,\n",
      "data\n",
      "analysis,\n",
      "and\n",
      "algorithm\n",
      "implementation\n",
      "while\n",
      "collaborating\n",
      "closely\n",
      "with\n",
      "our\n",
      "talented\n",
      "AI\n",
      "and\n",
      "engineering\n",
      "teams.\n",
      "This\n",
      "hands-on\n",
      "experience\n",
      "will\n",
      "allow\n",
      "you\n",
      "to\n",
      "deepen\n",
      "your\n",
      "expertise\n",
      "in\n",
      "technologies\n",
      "such\n",
      "as\n",
      "Python,\n",
      "TensorFlow,\n",
      "PyTorch,\n",
      "and\n",
      "more.\n",
      "We\n",
      "are\n",
      "committed\n",
      "to\n",
      "ensuring\n",
      "that\n",
      "you\n",
      "have\n",
      "a\n",
      "fulfilling' metadata={'source': 'artifacts/internship.pdf', 'page': 0}\n"
     ]
    }
   ],
   "source": [
    "print(final_documents[0])\n",
    "print(final_documents[1])"
   ]
  },
  {
   "cell_type": "code",
   "execution_count": null,
   "metadata": {},
   "outputs": [],
   "source": []
  }
 ],
 "metadata": {
  "kernelspec": {
   "display_name": ".venv",
   "language": "python",
   "name": "python3"
  },
  "language_info": {
   "codemirror_mode": {
    "name": "ipython",
    "version": 3
   },
   "file_extension": ".py",
   "mimetype": "text/x-python",
   "name": "python",
   "nbconvert_exporter": "python",
   "pygments_lexer": "ipython3",
   "version": "3.10.11"
  }
 },
 "nbformat": 4,
 "nbformat_minor": 2
}
